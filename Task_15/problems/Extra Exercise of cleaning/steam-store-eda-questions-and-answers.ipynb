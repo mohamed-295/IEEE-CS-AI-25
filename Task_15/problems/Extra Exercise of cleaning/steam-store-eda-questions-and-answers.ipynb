{
 "cells": [
  {
   "cell_type": "markdown",
   "id": "bd3a53ec",
   "metadata": {
    "papermill": {
     "duration": 0.015698,
     "end_time": "2023-06-14T00:50:17.174212",
     "exception": false,
     "start_time": "2023-06-14T00:50:17.158514",
     "status": "completed"
    },
    "tags": []
   },
   "source": [
    "# Introduction\n",
    "\n",
    "The data was gathered around May 2019, utilizing the Steam Store and SteamSpy APIs, as stated by the dataset's author on the description.\n",
    "\n",
    "This is an exploratory analysis of this dataset, mainly utilizing Pandas and its functions. I will try to answer the following questions:\n",
    "\n",
    "- Top 20 games with the most positive ratings\n",
    "- Top 20 games with the most negative ratings\n",
    "- Top 20 games with the highest average playtime\n",
    "- Price analysis\n",
    "- Distribution of genres\n",
    "- Publishers with the highest number of games\n",
    "- Games released by year\n",
    "- What does ownership look like"
   ]
  },
  {
   "cell_type": "code",
   "execution_count": 1,
   "id": "31d51214",
   "metadata": {
    "execution": {
     "iopub.execute_input": "2023-06-14T00:50:15.605934Z",
     "iopub.status.busy": "2023-06-14T00:50:15.605544Z",
     "iopub.status.idle": "2023-06-14T00:50:17.139912Z",
     "shell.execute_reply": "2023-06-14T00:50:17.138604Z"
    },
    "papermill": {
     "duration": 1.55474,
     "end_time": "2023-06-14T00:50:17.142424",
     "exception": false,
     "start_time": "2023-06-14T00:50:15.587684",
     "status": "completed"
    },
    "tags": []
   },
   "outputs": [],
   "source": [
    "#import libraries\n"
   ]
  },
  {
   "cell_type": "markdown",
   "id": "24cfcf84",
   "metadata": {
    "papermill": {
     "duration": 0.015679,
     "end_time": "2023-06-14T00:50:17.205782",
     "exception": false,
     "start_time": "2023-06-14T00:50:17.190103",
     "status": "completed"
    },
    "tags": []
   },
   "source": [
    "## **Initial Dataset Examination**"
   ]
  },
  {
   "cell_type": "code",
   "execution_count": null,
   "id": "27f47381",
   "metadata": {
    "execution": {
     "iopub.execute_input": "2023-06-14T00:50:17.240154Z",
     "iopub.status.busy": "2023-06-14T00:50:17.239416Z",
     "iopub.status.idle": "2023-06-14T00:50:17.555986Z",
     "shell.execute_reply": "2023-06-14T00:50:17.554740Z"
    },
    "papermill": {
     "duration": 0.3364,
     "end_time": "2023-06-14T00:50:17.558384",
     "exception": false,
     "start_time": "2023-06-14T00:50:17.221984",
     "status": "completed"
    },
    "tags": []
   },
   "outputs": [],
   "source": []
  },
  {
   "cell_type": "code",
   "execution_count": null,
   "id": "03b3edf6",
   "metadata": {
    "execution": {
     "iopub.execute_input": "2023-06-14T00:50:17.592798Z",
     "iopub.status.busy": "2023-06-14T00:50:17.592361Z",
     "iopub.status.idle": "2023-06-14T00:50:17.614025Z",
     "shell.execute_reply": "2023-06-14T00:50:17.612864Z"
    },
    "papermill": {
     "duration": 0.041866,
     "end_time": "2023-06-14T00:50:17.616703",
     "exception": false,
     "start_time": "2023-06-14T00:50:17.574837",
     "status": "completed"
    },
    "tags": []
   },
   "outputs": [],
   "source": []
  },
  {
   "cell_type": "markdown",
   "id": "d71ae2af",
   "metadata": {
    "papermill": {
     "duration": 0.016408,
     "end_time": "2023-06-14T00:50:17.649920",
     "exception": false,
     "start_time": "2023-06-14T00:50:17.633512",
     "status": "completed"
    },
    "tags": []
   },
   "source": [
    "Getting a summary of the statistics in my dataset"
   ]
  },
  {
   "cell_type": "code",
   "execution_count": null,
   "id": "9f939b8c",
   "metadata": {
    "execution": {
     "iopub.execute_input": "2023-06-14T00:50:17.689345Z",
     "iopub.status.busy": "2023-06-14T00:50:17.688649Z",
     "iopub.status.idle": "2023-06-14T00:50:17.740519Z",
     "shell.execute_reply": "2023-06-14T00:50:17.739402Z"
    },
    "papermill": {
     "duration": 0.076121,
     "end_time": "2023-06-14T00:50:17.743088",
     "exception": false,
     "start_time": "2023-06-14T00:50:17.666967",
     "status": "completed"
    },
    "tags": []
   },
   "outputs": [],
   "source": []
  },
  {
   "cell_type": "code",
   "execution_count": null,
   "id": "d4644166",
   "metadata": {
    "execution": {
     "iopub.execute_input": "2023-06-14T00:50:17.779637Z",
     "iopub.status.busy": "2023-06-14T00:50:17.778890Z",
     "iopub.status.idle": "2023-06-14T00:50:17.879727Z",
     "shell.execute_reply": "2023-06-14T00:50:17.878330Z"
    },
    "papermill": {
     "duration": 0.122217,
     "end_time": "2023-06-14T00:50:17.882622",
     "exception": false,
     "start_time": "2023-06-14T00:50:17.760405",
     "status": "completed"
    },
    "tags": []
   },
   "outputs": [],
   "source": []
  },
  {
   "cell_type": "markdown",
   "id": "5bd73b9d",
   "metadata": {
    "papermill": {
     "duration": 0.016844,
     "end_time": "2023-06-14T00:50:17.916632",
     "exception": false,
     "start_time": "2023-06-14T00:50:17.899788",
     "status": "completed"
    },
    "tags": []
   },
   "source": [
    "Verifying how many lines and columns my dataset has"
   ]
  },
  {
   "cell_type": "code",
   "execution_count": null,
   "id": "37e86eff",
   "metadata": {
    "execution": {
     "iopub.execute_input": "2023-06-14T00:50:17.953262Z",
     "iopub.status.busy": "2023-06-14T00:50:17.952823Z",
     "iopub.status.idle": "2023-06-14T00:50:17.958521Z",
     "shell.execute_reply": "2023-06-14T00:50:17.957398Z"
    },
    "papermill": {
     "duration": 0.026829,
     "end_time": "2023-06-14T00:50:17.961287",
     "exception": false,
     "start_time": "2023-06-14T00:50:17.934458",
     "status": "completed"
    },
    "tags": []
   },
   "outputs": [],
   "source": []
  },
  {
   "cell_type": "markdown",
   "id": "aa5cfa88",
   "metadata": {
    "papermill": {
     "duration": 0.017596,
     "end_time": "2023-06-14T00:50:17.996775",
     "exception": false,
     "start_time": "2023-06-14T00:50:17.979179",
     "status": "completed"
    },
    "tags": []
   },
   "source": [
    "Checking if there are any null values in my dataframe. This is good practice, although this dataset was already cleaned by the author."
   ]
  },
  {
   "cell_type": "code",
   "execution_count": null,
   "id": "7740cf7e",
   "metadata": {
    "execution": {
     "iopub.execute_input": "2023-06-14T00:50:18.034586Z",
     "iopub.status.busy": "2023-06-14T00:50:18.033442Z",
     "iopub.status.idle": "2023-06-14T00:50:18.118590Z",
     "shell.execute_reply": "2023-06-14T00:50:18.116719Z"
    },
    "papermill": {
     "duration": 0.106553,
     "end_time": "2023-06-14T00:50:18.121240",
     "exception": false,
     "start_time": "2023-06-14T00:50:18.014687",
     "status": "completed"
    },
    "tags": []
   },
   "outputs": [],
   "source": []
  },
  {
   "cell_type": "markdown",
   "id": "ee9466c2",
   "metadata": {
    "papermill": {
     "duration": 0.016905,
     "end_time": "2023-06-14T00:50:18.155504",
     "exception": false,
     "start_time": "2023-06-14T00:50:18.138599",
     "status": "completed"
    },
    "tags": []
   },
   "source": [
    "Columns appid and steamspy_tags will be dropped. The former because it doesn't have any relevant information for this exploratory analysis, and the latter because it has very similar data to the genres column, and that is the chosen column to be used in this analysis."
   ]
  },
  {
   "cell_type": "code",
   "execution_count": null,
   "id": "4de0fe4b",
   "metadata": {
    "execution": {
     "iopub.execute_input": "2023-06-14T00:50:18.192045Z",
     "iopub.status.busy": "2023-06-14T00:50:18.191650Z",
     "iopub.status.idle": "2023-06-14T00:50:18.216809Z",
     "shell.execute_reply": "2023-06-14T00:50:18.215606Z"
    },
    "papermill": {
     "duration": 0.04694,
     "end_time": "2023-06-14T00:50:18.219595",
     "exception": false,
     "start_time": "2023-06-14T00:50:18.172655",
     "status": "completed"
    },
    "tags": []
   },
   "outputs": [],
   "source": []
  },
  {
   "cell_type": "markdown",
   "id": "5ffe4926",
   "metadata": {
    "papermill": {
     "duration": 0.017686,
     "end_time": "2023-06-14T00:50:18.255044",
     "exception": false,
     "start_time": "2023-06-14T00:50:18.237358",
     "status": "completed"
    },
    "tags": []
   },
   "source": [
    "Altering the genres column inplace. Since this column has many genres separated by semicolons, we will disregard the ones that come after the first and consider that the main genre."
   ]
  },
  {
   "cell_type": "code",
   "execution_count": null,
   "id": "8776db99",
   "metadata": {
    "execution": {
     "iopub.execute_input": "2023-06-14T00:50:18.292761Z",
     "iopub.status.busy": "2023-06-14T00:50:18.292340Z",
     "iopub.status.idle": "2023-06-14T00:50:18.364447Z",
     "shell.execute_reply": "2023-06-14T00:50:18.363347Z"
    },
    "papermill": {
     "duration": 0.094081,
     "end_time": "2023-06-14T00:50:18.367081",
     "exception": false,
     "start_time": "2023-06-14T00:50:18.273000",
     "status": "completed"
    },
    "tags": []
   },
   "outputs": [],
   "source": []
  },
  {
   "cell_type": "markdown",
   "id": "7ecd1bd7",
   "metadata": {
    "papermill": {
     "duration": 0.017607,
     "end_time": "2023-06-14T00:50:18.402769",
     "exception": false,
     "start_time": "2023-06-14T00:50:18.385162",
     "status": "completed"
    },
    "tags": []
   },
   "source": [
    "There's a lot of zeroes in the column required_age, so a query is run to check whether that is the situation for the entire column or not, in case it's bad data"
   ]
  },
  {
   "cell_type": "code",
   "execution_count": null,
   "id": "cd59cff0",
   "metadata": {
    "execution": {
     "iopub.execute_input": "2023-06-14T00:50:18.440677Z",
     "iopub.status.busy": "2023-06-14T00:50:18.440286Z",
     "iopub.status.idle": "2023-06-14T00:50:18.476052Z",
     "shell.execute_reply": "2023-06-14T00:50:18.474831Z"
    },
    "papermill": {
     "duration": 0.058278,
     "end_time": "2023-06-14T00:50:18.478942",
     "exception": false,
     "start_time": "2023-06-14T00:50:18.420664",
     "status": "completed"
    },
    "tags": []
   },
   "outputs": [],
   "source": []
  },
  {
   "cell_type": "markdown",
   "id": "ae2f58cc",
   "metadata": {
    "papermill": {
     "duration": 0.018572,
     "end_time": "2023-06-14T00:50:18.516679",
     "exception": false,
     "start_time": "2023-06-14T00:50:18.498107",
     "status": "completed"
    },
    "tags": []
   },
   "source": [
    "## **Top 20 Games with the Most Positive Ratings**\n",
    "\n",
    "Discovering the top 20 games with the most positive reviews on Steam. First, the 20 largest values in the positive_ratings column will be filtered."
   ]
  },
  {
   "cell_type": "code",
   "execution_count": null,
   "id": "4d03ee84",
   "metadata": {
    "execution": {
     "iopub.execute_input": "2023-06-14T00:50:18.556862Z",
     "iopub.status.busy": "2023-06-14T00:50:18.556242Z",
     "iopub.status.idle": "2023-06-14T00:50:18.569631Z",
     "shell.execute_reply": "2023-06-14T00:50:18.568428Z"
    },
    "papermill": {
     "duration": 0.036021,
     "end_time": "2023-06-14T00:50:18.572050",
     "exception": false,
     "start_time": "2023-06-14T00:50:18.536029",
     "status": "completed"
    },
    "tags": []
   },
   "outputs": [],
   "source": []
  },
  {
   "cell_type": "markdown",
   "id": "ce78c09d",
   "metadata": {
    "papermill": {
     "duration": 0.023519,
     "end_time": "2023-06-14T00:50:18.615505",
     "exception": false,
     "start_time": "2023-06-14T00:50:18.591986",
     "status": "completed"
    },
    "tags": []
   },
   "source": [
    "Then, a query is applied to select only those games whose quantity of positive ratings is above the last number retrieved in the filter. In this case, that would be 144595."
   ]
  },
  {
   "cell_type": "code",
   "execution_count": null,
   "id": "642647ac",
   "metadata": {
    "execution": {
     "iopub.execute_input": "2023-06-14T00:50:18.656669Z",
     "iopub.status.busy": "2023-06-14T00:50:18.655455Z",
     "iopub.status.idle": "2023-06-14T00:50:18.676792Z",
     "shell.execute_reply": "2023-06-14T00:50:18.675570Z"
    },
    "papermill": {
     "duration": 0.044187,
     "end_time": "2023-06-14T00:50:18.679381",
     "exception": false,
     "start_time": "2023-06-14T00:50:18.635194",
     "status": "completed"
    },
    "tags": []
   },
   "outputs": [],
   "source": []
  },
  {
   "cell_type": "markdown",
   "id": "60393c9c",
   "metadata": {
    "papermill": {
     "duration": 0.019105,
     "end_time": "2023-06-14T00:50:18.719400",
     "exception": false,
     "start_time": "2023-06-14T00:50:18.700295",
     "status": "completed"
    },
    "tags": []
   },
   "source": [
    "Unsurprisingly, the podium is occupied by the wildly popular PC games Counter-Strike: Global Offensive, Dota 2 and Team Fortress 2, all three developed by Steam's own parent company, Valve Software."
   ]
  },
  {
   "cell_type": "markdown",
   "id": "e4dc0f63",
   "metadata": {
    "papermill": {
     "duration": 0.022179,
     "end_time": "2023-06-14T00:50:18.764163",
     "exception": false,
     "start_time": "2023-06-14T00:50:18.741984",
     "status": "completed"
    },
    "tags": []
   },
   "source": [
    "## **Top 20 Games with the Most Negative Ratings**\n",
    "\n",
    "Now, going to the opposite end, discovering the top 20 games with the most negative reviews on Steam. Filtering for the the 20 largest values in the negative_ratings column."
   ]
  },
  {
   "cell_type": "code",
   "execution_count": null,
   "id": "c35e913a",
   "metadata": {
    "execution": {
     "iopub.execute_input": "2023-06-14T00:50:18.814985Z",
     "iopub.status.busy": "2023-06-14T00:50:18.814176Z",
     "iopub.status.idle": "2023-06-14T00:50:18.825109Z",
     "shell.execute_reply": "2023-06-14T00:50:18.823410Z"
    },
    "papermill": {
     "duration": 0.03793,
     "end_time": "2023-06-14T00:50:18.828611",
     "exception": false,
     "start_time": "2023-06-14T00:50:18.790681",
     "status": "completed"
    },
    "tags": []
   },
   "outputs": [],
   "source": []
  },
  {
   "cell_type": "markdown",
   "id": "c1d3ab97",
   "metadata": {
    "papermill": {
     "duration": 0.019423,
     "end_time": "2023-06-14T00:50:18.869007",
     "exception": false,
     "start_time": "2023-06-14T00:50:18.849584",
     "status": "completed"
    },
    "tags": []
   },
   "source": [
    "Applying a query to select only those games whose quantity of negative ratings is above the last number retrieved in the filter, 25920."
   ]
  },
  {
   "cell_type": "code",
   "execution_count": null,
   "id": "e20339e9",
   "metadata": {
    "execution": {
     "iopub.execute_input": "2023-06-14T00:50:18.916649Z",
     "iopub.status.busy": "2023-06-14T00:50:18.915555Z",
     "iopub.status.idle": "2023-06-14T00:50:18.936935Z",
     "shell.execute_reply": "2023-06-14T00:50:18.935645Z"
    },
    "papermill": {
     "duration": 0.046012,
     "end_time": "2023-06-14T00:50:18.939484",
     "exception": false,
     "start_time": "2023-06-14T00:50:18.893472",
     "status": "completed"
    },
    "tags": []
   },
   "outputs": [],
   "source": []
  },
  {
   "cell_type": "markdown",
   "id": "d61acffe",
   "metadata": {
    "papermill": {
     "duration": 0.019869,
     "end_time": "2023-06-14T00:50:18.979988",
     "exception": false,
     "start_time": "2023-06-14T00:50:18.960119",
     "status": "completed"
    },
    "tags": []
   },
   "source": [
    "Popular video games, especially those with live-service and multiplayer components, can often be very divisive or controversial due to the fickle nature of the player bases and the state of their satisfaction or dissatisfaction with the games as they get updated and changed. Thus Counter-Strike: Global Offensive and Dota 2 occupy 2 of the 3 spots of games with the most negative reviews."
   ]
  },
  {
   "cell_type": "markdown",
   "id": "77c7f3ed",
   "metadata": {
    "papermill": {
     "duration": 0.021037,
     "end_time": "2023-06-14T00:50:19.021213",
     "exception": false,
     "start_time": "2023-06-14T00:50:19.000176",
     "status": "completed"
    },
    "tags": []
   },
   "source": [
    "## **Top 20 Games with the Highest Average Playtime**\n",
    "\n",
    "Taking a look at how much time people spend on Steam's most popular games, on average."
   ]
  },
  {
   "cell_type": "markdown",
   "id": "66a255d6",
   "metadata": {
    "papermill": {
     "duration": 0.019691,
     "end_time": "2023-06-14T00:50:19.061112",
     "exception": false,
     "start_time": "2023-06-14T00:50:19.041421",
     "status": "completed"
    },
    "tags": []
   },
   "source": [
    "First, the average_playtime column will be converted from minutes to hours for better visualization"
   ]
  },
  {
   "cell_type": "code",
   "execution_count": null,
   "id": "ec7cfccd",
   "metadata": {
    "execution": {
     "iopub.execute_input": "2023-06-14T00:50:19.103186Z",
     "iopub.status.busy": "2023-06-14T00:50:19.102747Z",
     "iopub.status.idle": "2023-06-14T00:50:19.109085Z",
     "shell.execute_reply": "2023-06-14T00:50:19.108135Z"
    },
    "papermill": {
     "duration": 0.03033,
     "end_time": "2023-06-14T00:50:19.111448",
     "exception": false,
     "start_time": "2023-06-14T00:50:19.081118",
     "status": "completed"
    },
    "tags": []
   },
   "outputs": [],
   "source": []
  },
  {
   "cell_type": "code",
   "execution_count": null,
   "id": "f738a7b4",
   "metadata": {
    "execution": {
     "iopub.execute_input": "2023-06-14T00:50:19.154390Z",
     "iopub.status.busy": "2023-06-14T00:50:19.153043Z",
     "iopub.status.idle": "2023-06-14T00:50:19.165650Z",
     "shell.execute_reply": "2023-06-14T00:50:19.164543Z"
    },
    "papermill": {
     "duration": 0.036369,
     "end_time": "2023-06-14T00:50:19.167993",
     "exception": false,
     "start_time": "2023-06-14T00:50:19.131624",
     "status": "completed"
    },
    "tags": []
   },
   "outputs": [],
   "source": []
  },
  {
   "cell_type": "code",
   "execution_count": null,
   "id": "27686d7b",
   "metadata": {
    "execution": {
     "iopub.execute_input": "2023-06-14T00:50:19.211375Z",
     "iopub.status.busy": "2023-06-14T00:50:19.210713Z",
     "iopub.status.idle": "2023-06-14T00:50:19.233050Z",
     "shell.execute_reply": "2023-06-14T00:50:19.231906Z"
    },
    "papermill": {
     "duration": 0.046631,
     "end_time": "2023-06-14T00:50:19.235427",
     "exception": false,
     "start_time": "2023-06-14T00:50:19.188796",
     "status": "completed"
    },
    "tags": []
   },
   "outputs": [],
   "source": []
  },
  {
   "cell_type": "markdown",
   "id": "9b464a97",
   "metadata": {
    "papermill": {
     "duration": 0.020532,
     "end_time": "2023-06-14T00:50:19.276711",
     "exception": false,
     "start_time": "2023-06-14T00:50:19.256179",
     "status": "completed"
    },
    "tags": []
   },
   "source": [
    "## **Price Analysis**\n",
    "\n",
    "A simple price analysis will be shown below, focusing on the split of free vs. paid games, average price by year and general price distribution. \n",
    "\n",
    "release_year and release_month columns will be created from the release_date one, as it will be used for this price analysis and a few other metrics down the line"
   ]
  },
  {
   "cell_type": "code",
   "execution_count": null,
   "id": "a82daa9b",
   "metadata": {
    "execution": {
     "iopub.execute_input": "2023-06-14T00:50:19.320821Z",
     "iopub.status.busy": "2023-06-14T00:50:19.320137Z",
     "iopub.status.idle": "2023-06-14T00:50:19.594081Z",
     "shell.execute_reply": "2023-06-14T00:50:19.593315Z"
    },
    "papermill": {
     "duration": 0.298863,
     "end_time": "2023-06-14T00:50:19.596862",
     "exception": false,
     "start_time": "2023-06-14T00:50:19.297999",
     "status": "completed"
    },
    "tags": []
   },
   "outputs": [],
   "source": []
  },
  {
   "cell_type": "markdown",
   "id": "06756909",
   "metadata": {
    "papermill": {
     "duration": 0.020787,
     "end_time": "2023-06-14T00:50:19.641015",
     "exception": false,
     "start_time": "2023-06-14T00:50:19.620228",
     "status": "completed"
    },
    "tags": []
   },
   "source": [
    "A new boolean column will be added called free, this column displays whether a game is free or paid"
   ]
  },
  {
   "cell_type": "code",
   "execution_count": null,
   "id": "57ce2c6b",
   "metadata": {
    "execution": {
     "iopub.execute_input": "2023-06-14T00:50:19.686113Z",
     "iopub.status.busy": "2023-06-14T00:50:19.685316Z",
     "iopub.status.idle": "2023-06-14T00:50:19.727406Z",
     "shell.execute_reply": "2023-06-14T00:50:19.726313Z"
    },
    "papermill": {
     "duration": 0.067195,
     "end_time": "2023-06-14T00:50:19.729854",
     "exception": false,
     "start_time": "2023-06-14T00:50:19.662659",
     "status": "completed"
    },
    "tags": []
   },
   "outputs": [],
   "source": []
  },
  {
   "cell_type": "markdown",
   "id": "43524279",
   "metadata": {
    "papermill": {
     "duration": 0.024223,
     "end_time": "2023-06-14T00:50:22.259441",
     "exception": false,
     "start_time": "2023-06-14T00:50:22.235218",
     "status": "completed"
    },
    "tags": []
   },
   "source": [
    "## **Publishers and Developers with the Highest Number of Games**"
   ]
  },
  {
   "cell_type": "code",
   "execution_count": null,
   "id": "02dcfdcc",
   "metadata": {
    "execution": {
     "iopub.execute_input": "2023-06-14T00:50:22.312452Z",
     "iopub.status.busy": "2023-06-14T00:50:22.311996Z",
     "iopub.status.idle": "2023-06-14T00:50:22.330754Z",
     "shell.execute_reply": "2023-06-14T00:50:22.329298Z"
    },
    "papermill": {
     "duration": 0.048036,
     "end_time": "2023-06-14T00:50:22.333191",
     "exception": false,
     "start_time": "2023-06-14T00:50:22.285155",
     "status": "completed"
    },
    "tags": []
   },
   "outputs": [],
   "source": []
  },
  {
   "cell_type": "code",
   "execution_count": null,
   "id": "872c21b2",
   "metadata": {
    "execution": {
     "iopub.execute_input": "2023-06-14T00:50:22.953595Z",
     "iopub.status.busy": "2023-06-14T00:50:22.953179Z",
     "iopub.status.idle": "2023-06-14T00:50:22.972168Z",
     "shell.execute_reply": "2023-06-14T00:50:22.971020Z"
    },
    "papermill": {
     "duration": 0.048026,
     "end_time": "2023-06-14T00:50:22.974521",
     "exception": false,
     "start_time": "2023-06-14T00:50:22.926495",
     "status": "completed"
    },
    "tags": []
   },
   "outputs": [],
   "source": []
  },
  {
   "cell_type": "markdown",
   "id": "8fc35f26",
   "metadata": {
    "papermill": {
     "duration": 0.028872,
     "end_time": "2023-06-14T00:50:24.857395",
     "exception": false,
     "start_time": "2023-06-14T00:50:24.828523",
     "status": "completed"
    },
    "tags": []
   },
   "source": [
    "Top 10 games by ownership"
   ]
  },
  {
   "cell_type": "code",
   "execution_count": null,
   "id": "5a7e2270",
   "metadata": {
    "execution": {
     "iopub.execute_input": "2023-06-14T00:50:24.918525Z",
     "iopub.status.busy": "2023-06-14T00:50:24.917088Z",
     "iopub.status.idle": "2023-06-14T00:50:24.945966Z",
     "shell.execute_reply": "2023-06-14T00:50:24.944816Z"
    },
    "papermill": {
     "duration": 0.062092,
     "end_time": "2023-06-14T00:50:24.948597",
     "exception": false,
     "start_time": "2023-06-14T00:50:24.886505",
     "status": "completed"
    },
    "tags": []
   },
   "outputs": [],
   "source": []
  }
 ],
 "metadata": {
  "kernelspec": {
   "display_name": "Python 3 (ipykernel)",
   "language": "python",
   "name": "python3"
  },
  "language_info": {
   "codemirror_mode": {
    "name": "ipython",
    "version": 3
   },
   "file_extension": ".py",
   "mimetype": "text/x-python",
   "name": "python",
   "nbconvert_exporter": "python",
   "pygments_lexer": "ipython3",
   "version": "3.9.13"
  },
  "papermill": {
   "default_parameters": {},
   "duration": 24.358055,
   "end_time": "2023-06-14T00:50:26.001812",
   "environment_variables": {},
   "exception": null,
   "input_path": "__notebook__.ipynb",
   "output_path": "__notebook__.ipynb",
   "parameters": {},
   "start_time": "2023-06-14T00:50:01.643757",
   "version": "2.4.0"
  }
 },
 "nbformat": 4,
 "nbformat_minor": 5
}
