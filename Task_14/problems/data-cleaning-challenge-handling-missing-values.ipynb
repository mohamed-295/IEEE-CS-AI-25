{
 "cells": [
  {
   "cell_type": "markdown",
   "metadata": {
    "_cell_guid": "b91a74ba-85f4-486e-b5f9-d0898f0626bf",
    "_uuid": "6ac53f18b4f4ec0fc44348cedb5d1c319fa127c0"
   },
   "source": [
    "### All days of the challange:\n",
    "\n",
    "Here's what we're going to do today:\n",
    "\n",
    "* [Take a first look at the data](#Take-a-first-look-at-the-data)\n",
    "* [See how many missing data points we have](#See-how-many-missing-data-points-we-have)\n",
    "* [Figure out why the data is missing](#Figure-out-why-the-data-is-missing)\n",
    "* [Drop missing values](#Drop-missing-values)\n",
    "* [Filling in missing values](#Filling-in-missing-values)\n",
    "\n",
    "Let's get started!"
   ]
  },
  {
   "cell_type": "markdown",
   "metadata": {
    "_cell_guid": "5cd5061f-ae30-4837-a53b-690ffd5c5830",
    "_uuid": "9d82bf13584b8e682962fbb96131f2447d741679"
   },
   "source": [
    "# Take a first look at the data\n",
    "________\n",
    "\n",
    "The first thing we'll need to do is load in the libraries and datasets we'll be using. For today, I'll be using a dataset of events that occured in American Football games for demonstration, and you'll be using a dataset of building permits issued in San Francisco.\n",
    "\n",
    "> **Important!** Make sure you run this cell yourself or the rest of your code won't work!"
   ]
  },
  {
   "cell_type": "code",
   "execution_count": 4,
   "metadata": {
    "_cell_guid": "135a7804-b5f5-40aa-8657-4a15774e3666",
    "_uuid": "835cbe0834b935fb0fd40c75b9c39454836f4d5f"
   },
   "outputs": [],
   "source": [
    "# libraries we'll use\n",
    "import pandas as pd\n",
    "# read in all our data NFL nfl1-> Play by Play 2009-2017 (v4), nfl2 -> NFL Play by Play 2009-2016 (v3)\n",
    "nfl1 = pd.read_csv('NFL Play by Play 2009-2016 (v3).csv', low_memory=False)\n",
    "nfl2 = pd.read_csv('NFL Play by Play 2009-2017 (v4).csv', low_memory=False)\n"
   ]
  },
  {
   "cell_type": "markdown",
   "metadata": {
    "_cell_guid": "09b58d03-d34d-497a-b298-12a0ae962e3d",
    "_uuid": "53c84bf86149ac41b237633a1a79d6130d6a2cd4"
   },
   "source": [
    "The first thing I do when I get a new dataset is take a look at some of it. This lets me see that it all read in correctly and get an idea of what's going on with the data. In this case, I'm looking to see if I see any missing values, which will be reprsented with `NaN` or `None`."
   ]
  },
  {
   "cell_type": "code",
   "execution_count": 8,
   "metadata": {
    "_cell_guid": "79c7e3d0-c299-4dcb-8224-4455121ee9b0",
    "_uuid": "d629ff2d2480ee46fbb7e2d37f6b5fab8052498a"
   },
   "outputs": [
    {
     "name": "stdout",
     "output_type": "stream",
     "text": [
      "         Date      GameID  Drive  qtr  down   time  TimeUnder  TimeSecs  \\\n",
      "0  2009-09-10  2009091000      1    1   NaN  15:00         15    3600.0   \n",
      "1  2009-09-10  2009091000      1    1   1.0  14:53         15    3593.0   \n",
      "2  2009-09-10  2009091000      1    1   2.0  14:16         15    3556.0   \n",
      "3  2009-09-10  2009091000      1    1   3.0  13:35         14    3515.0   \n",
      "4  2009-09-10  2009091000      1    1   4.0  13:27         14    3507.0   \n",
      "\n",
      "   PlayTimeDiff SideofField  ...    yacEPA  Home_WP_pre  Away_WP_pre  \\\n",
      "0           0.0         TEN  ...       NaN     0.485675     0.514325   \n",
      "1           7.0         PIT  ...  1.146076     0.546433     0.453567   \n",
      "2          37.0         PIT  ...       NaN     0.551088     0.448912   \n",
      "3          41.0         PIT  ... -5.031425     0.510793     0.489207   \n",
      "4           8.0         PIT  ...       NaN     0.461217     0.538783   \n",
      "\n",
      "   Home_WP_post  Away_WP_post  Win_Prob       WPA    airWPA    yacWPA  Season  \n",
      "0      0.546433      0.453567  0.485675  0.060758       NaN       NaN    2009  \n",
      "1      0.551088      0.448912  0.546433  0.004655 -0.032244  0.036899    2009  \n",
      "2      0.510793      0.489207  0.551088 -0.040295       NaN       NaN    2009  \n",
      "3      0.461217      0.538783  0.510793 -0.049576  0.106663 -0.156239    2009  \n",
      "4      0.558929      0.441071  0.461217  0.097712       NaN       NaN    2009  \n",
      "\n",
      "[5 rows x 102 columns]\n"
     ]
    }
   ],
   "source": [
    "# look at a few rows of the nfl1_data file. I can see a handful of missing data already!\n",
    "print(nfl1.head())"
   ]
  },
  {
   "cell_type": "markdown",
   "metadata": {
    "_cell_guid": "604ac3a4-b1d9-4264-b312-4bbeecdeec00",
    "_uuid": "03ce3b4afe87d98f777172c2c7be066a66a0b237"
   },
   "source": [
    "Yep, it looks like there's some missing values. What about in the nfl2 dataset?"
   ]
  },
  {
   "cell_type": "code",
   "execution_count": 10,
   "metadata": {
    "_cell_guid": "8dca377c-95be-40ec-87dc-61a8fca750e2",
    "_uuid": "e389495bb2e5d27ab632d5f3648ca1f912c94706"
   },
   "outputs": [
    {
     "name": "stdout",
     "output_type": "stream",
     "text": [
      "         Date      GameID  Drive  qtr  down   time  TimeUnder  TimeSecs  \\\n",
      "0  2009-09-10  2009091000      1    1   NaN  15:00         15    3600.0   \n",
      "1  2009-09-10  2009091000      1    1   1.0  14:53         15    3593.0   \n",
      "2  2009-09-10  2009091000      1    1   2.0  14:16         15    3556.0   \n",
      "3  2009-09-10  2009091000      1    1   3.0  13:35         14    3515.0   \n",
      "4  2009-09-10  2009091000      1    1   4.0  13:27         14    3507.0   \n",
      "\n",
      "   PlayTimeDiff SideofField  ...    yacEPA  Home_WP_pre  Away_WP_pre  \\\n",
      "0           0.0         TEN  ...       NaN     0.485675     0.514325   \n",
      "1           7.0         PIT  ...  1.146076     0.546433     0.453567   \n",
      "2          37.0         PIT  ...       NaN     0.551088     0.448912   \n",
      "3          41.0         PIT  ... -5.031425     0.510793     0.489207   \n",
      "4           8.0         PIT  ...       NaN     0.461217     0.538783   \n",
      "\n",
      "   Home_WP_post  Away_WP_post  Win_Prob       WPA    airWPA    yacWPA  Season  \n",
      "0      0.546433      0.453567  0.485675  0.060758       NaN       NaN    2009  \n",
      "1      0.551088      0.448912  0.546433  0.004655 -0.032244  0.036899    2009  \n",
      "2      0.510793      0.489207  0.551088 -0.040295       NaN       NaN    2009  \n",
      "3      0.461217      0.538783  0.510793 -0.049576  0.106663 -0.156239    2009  \n",
      "4      0.558929      0.441071  0.461217  0.097712       NaN       NaN    2009  \n",
      "\n",
      "[5 rows x 102 columns]\n"
     ]
    }
   ],
   "source": [
    "# your turn! Look at a couple of rows from the nfl2 dataset. Do you notice any missing data?\n",
    "print(nfl2.head())\n",
    "# your code goes here :)"
   ]
  },
  {
   "cell_type": "markdown",
   "metadata": {
    "_cell_guid": "33656c2b-a74e-4b76-9af2-d7ecd518577b",
    "_uuid": "400b025f618cc76a39fec2537193f28ba1e49168"
   },
   "source": [
    "# See how many missing data points we have\n",
    "___\n",
    "\n",
    "Ok, now we know that we do have some missing values. Let's see how many we have in each column. "
   ]
  },
  {
   "cell_type": "code",
   "execution_count": 18,
   "metadata": {
    "_cell_guid": "a69ac02d-197b-487b-a38f-2f853d208eed",
    "_uuid": "6dc0e32180c4a3bba003e7886faf126d93affadf"
   },
   "outputs": [
    {
     "name": "stdout",
     "output_type": "stream",
     "text": [
      "Date                0\n",
      "GameID              0\n",
      "Drive               0\n",
      "qtr                 0\n",
      "down            54218\n",
      "time              188\n",
      "TimeUnder           0\n",
      "TimeSecs          188\n",
      "PlayTimeDiff      374\n",
      "SideofField       450\n",
      "dtype: int64\n",
      "---------------------------\n",
      "Date                0\n",
      "GameID              0\n",
      "Drive               0\n",
      "qtr                 0\n",
      "down            61154\n",
      "time              224\n",
      "TimeUnder           0\n",
      "TimeSecs          224\n",
      "PlayTimeDiff      444\n",
      "SideofField       528\n",
      "dtype: int64\n"
     ]
    }
   ],
   "source": [
    "# get the number of missing data points per column\n",
    "missing1 = nfl1.isnull().sum()\n",
    "missing2 = nfl2.isnull().sum()\n",
    "\n",
    "# look at the # of missing points in the first ten columns\n",
    "print(missing1.head(10))\n",
    "print ('---------------------------')\n",
    "print(missing2.head(10))"
   ]
  },
  {
   "cell_type": "markdown",
   "metadata": {
    "_cell_guid": "84455c7e-6c63-4e08-a7b4-7520a61072f9",
    "_uuid": "054ba8782a7b0555336eddb90c985fb638beac4d"
   },
   "source": [
    "That seems like a lot! It might be helpful to see what percentage of the values in our dataset were missing to give us a better sense of the scale of this problem:"
   ]
  },
  {
   "cell_type": "code",
   "execution_count": 16,
   "metadata": {
    "_cell_guid": "fb77dd56-192e-48be-8181-2082985dd5a2",
    "_uuid": "d6e65ba197893f29d9dce0b0cd1c75017b60db09"
   },
   "outputs": [
    {
     "name": "stdout",
     "output_type": "stream",
     "text": [
      "missing values nfl1: 10222931\n",
      "---------------------------\n",
      "missing values nfl2: 11505187\n"
     ]
    }
   ],
   "source": [
    "# how many total missing values do we have?\n",
    "\n",
    "missing1_count = nfl1.isnull().sum().sum()\n",
    "missing2_count = nfl2.isnull().sum().sum()\n",
    "# percent of data that is missing\n",
    "print(f\"missing values nfl1: {missing1_count}\")\n",
    "print ('---------------------------')\n",
    "print(f\"missing values nfl2: {missing2_count}\")"
   ]
  },
  {
   "cell_type": "code",
   "execution_count": null,
   "metadata": {},
   "outputs": [],
   "source": []
  },
  {
   "cell_type": "markdown",
   "metadata": {
    "_cell_guid": "31daa324-9215-4930-985c-01dee717b6b8",
    "_uuid": "3331fa42efa16f3db2e8e196411f351c5f8309f5"
   },
   "source": [
    "Wow, almost a quarter of the cells in this dataset are empty! In the next step, we're going to take a closer look at some of the columns with missing values and try to figure out what might be going on with them."
   ]
  },
  {
   "cell_type": "code",
   "execution_count": 20,
   "metadata": {
    "_cell_guid": "f20a9474-41ee-4ecd-a2f4-1ab147fc8655",
    "_uuid": "64487760aa1afaaa8b8a4d1f95206773759db101"
   },
   "outputs": [
    {
     "name": "stdout",
     "output_type": "stream",
     "text": [
      "percentage of missing values nfl1: 27.652%\n",
      "---------------------------\n",
      "percentage of missing values nfl2: 27.667%\n"
     ]
    }
   ],
   "source": [
    "# your turn! Find out what percent of the nfl2_ dataset is missing\n",
    "percentage1 = (missing1_count/nfl1.size)*100\n",
    "percentage2 = (missing2_count/nfl2.size)*100\n",
    "\n",
    "print(f\"percentage of missing values nfl1: {percentage1:.3f}%\")\n",
    "print ('---------------------------')\n",
    "print(f\"percentage of missing values nfl2: {percentage2:.3f}%\")"
   ]
  },
  {
   "cell_type": "markdown",
   "metadata": {
    "_cell_guid": "62b9f021-5b80-43e2-bf60-8e0d5e22d572",
    "_uuid": "032a618abb98a28e60ab84376cf21402178f995d"
   },
   "source": [
    "# Figure out why the data is missing\n",
    "____\n",
    " \n",
    "This is the point at which we get into the part of data science that I like to call \"data intution\", by which I mean \"really looking at your data and trying to figure out why it is the way it is and how that will affect your analysis\". It can be a frustrating part of data science, especially if you're newer to the field and don't have a lot of experience. For dealing with missing values, you'll need to use your intution to figure out why the value is missing. One of the most important question you can ask yourself to help figure this out is this:\n",
    "\n",
    "> **Is this value missing becuase it wasn't recorded or becuase it dosen't exist?**\n",
    "\n",
    "If a value is missing becuase it doens't exist (like the height of the oldest child of someone who doesn't have any children) then it doesn't make sense to try and guess what it might be. These values you probalby do want to keep as NaN. On the other hand, if a value is missing becuase it wasn't recorded, then you can try to guess what it might have been based on the other values in that column and row. (This is called \"imputation\" and we'll learn how to do it next! :)\n",
    "\n",
    "Let's work through an example. Looking at the number of missing values in the nfl_data dataframe, I notice that the column `TimesSec` has a lot of missing values in it: "
   ]
  },
  {
   "cell_type": "code",
   "execution_count": 40,
   "metadata": {
    "_cell_guid": "77739e82-8d32-4374-84bf-a924b6065168",
    "_uuid": "b65aea6046964806e44422c057bce8bd7f8e59d5"
   },
   "outputs": [
    {
     "data": {
      "text/plain": [
       "0    3600.0\n",
       "1    3593.0\n",
       "2    3556.0\n",
       "3    3515.0\n",
       "4    3507.0\n",
       "5    3496.0\n",
       "6    3460.0\n",
       "7    3431.0\n",
       "8    3394.0\n",
       "9    3384.0\n",
       "Name: TimeSecs, dtype: float64"
      ]
     },
     "execution_count": 40,
     "metadata": {},
     "output_type": "execute_result"
    }
   ],
   "source": [
    "# look at the # of missing points in the first ten columns\n",
    "nfl1['TimeSecs'].head(10)"
   ]
  },
  {
   "cell_type": "markdown",
   "metadata": {
    "_cell_guid": "1b17f4c9-dcab-4857-82f9-a2534e804c91",
    "_uuid": "5cff158285ab37a89b80dcc35d5c690cdb42d3a4"
   },
   "source": [
    "By looking at [the documentation](https://www.kaggle.com/maxhorowitz/nflplaybyplay2009to2016), I can see that this column has information on the number of seconds left in the game when the play was made. This means that these values are probably missing because they were not recorded, rather than because they don't exist. So, it would make sense for us to try and guess what they should be rather than just leaving them as NA's.\n",
    "\n",
    "On the other hand, there are other fields, like `PenalizedTeam` that also have lot of missing fields. In this case, though, the field is missing because if there was no penalty then it doesn't make sense to say *which* team was penalized. For this column, it would make more sense to either leave it empty or to add a third value like \"neither\" and use that to replace the NA's.\n",
    "\n",
    "> **Tip:** This is a great place to read over the dataset documentation if you haven't already! If you're working with a dataset that you've gotten from another person, you can also try reaching out to them to get more information.\n",
    "\n",
    "If you're doing very careful data analysis, this is the point at which you'd look at each column individually to figure out the best strategy for filling those missing values. For the rest of this notebook, we'll cover some \"quick and dirty\" techniques that can help you with missing values but will probably also end up removing some useful information or adding some noise to your data.\n",
    "\n",
    "## Your turn!\n",
    "\n",
    "* Look at the columns `Street Number Suffix` and `Zipcode` from the `sf_permits` datasets. Both of these contain missing values. Which, if either, of these are missing because they don't exist? Which, if either, are missing because they weren't recorded?"
   ]
  },
  {
   "cell_type": "markdown",
   "metadata": {
    "_cell_guid": "ea022b62-6419-47e7-973e-c3e707e2795f",
    "_uuid": "3f72f46f2464c7cd12f5eb2a752746ce1cd0b5a7"
   },
   "source": [
    "# Drop missing values\n",
    "___\n",
    "\n",
    "If you're in a hurry or don't have a reason to figure out why your values are missing, one option you have is to just remove any rows or columns that contain missing values. (Note: I don't generally recommend this approch for important projects! It's usually worth it to take the time to go through your data and really look at all the columns with missing values one-by-one to really get to know your dataset.)  \n",
    "\n",
    "If you're sure you want to drop rows with missing values, pandas does have a handy function, `dropna()` to help you do this. Let's try it out on our NFL dataset!"
   ]
  },
  {
   "cell_type": "code",
   "execution_count": 24,
   "metadata": {
    "_cell_guid": "ad0ac9a2-2854-4bb7-8886-8eee7fad8756",
    "_uuid": "ad8ef7825ba9bce3472a47d7c5242a4522f14065"
   },
   "outputs": [
    {
     "name": "stdout",
     "output_type": "stream",
     "text": [
      "nfl1 after removing rows with missing values: (0, 102)\n",
      "nfl2 after removing rows with missing values: (0, 102)\n"
     ]
    }
   ],
   "source": [
    "# remove all the rows that contain a missing value\n",
    "nfl1_no_missing_rows = nfl1.dropna()\n",
    "nfl2_no_missing_rows = nfl2.dropna()\n",
    "print(f\"nfl1 after removing rows with missing values: {nfl1_no_missing_rows.shape}\")\n",
    "print(f\"nfl2 after removing rows with missing values: {nfl2_no_missing_rows.shape}\")\n"
   ]
  },
  {
   "cell_type": "markdown",
   "metadata": {
    "_cell_guid": "e0545655-3d37-448b-ae56-2c7707cd805d",
    "_uuid": "33eb849e076d2a4d0c409f58d78b5f303879b1b3"
   },
   "source": [
    "Oh dear, it looks like that's removed all our data! 😱 This is because every row in our dataset had at least one missing value. We might have better luck removing all the *columns* that have at least one missing value instead."
   ]
  },
  {
   "cell_type": "code",
   "execution_count": 26,
   "metadata": {
    "_cell_guid": "97709ad4-f7b8-4cd0-8911-56e14db904ae",
    "_uuid": "87c569672854fe23e1ee9376ef3115ba4712cbf5"
   },
   "outputs": [
    {
     "name": "stdout",
     "output_type": "stream",
     "text": [
      "nfl1 after removing columns with missing values: (362447, 37)\n",
      "nfl2 after removing columns with missing values: (362447, 37)\n"
     ]
    }
   ],
   "source": [
    "# remove all columns with at least one missing value\n",
    "nfl1_no_missing_cols = nfl1.dropna(axis=1)\n",
    "nfl2_no_missing_cols = nfl2.dropna(axis=1)\n",
    "print(f\"nfl1 after removing columns with missing values: {nfl1_no_missing_cols.shape}\")\n",
    "print(f\"nfl2 after removing columns with missing values: {nfl1_no_missing_cols.shape}\")\n"
   ]
  },
  {
   "cell_type": "code",
   "execution_count": 30,
   "metadata": {
    "_cell_guid": "0e51b19b-c44d-4487-8417-725d2b911739",
    "_uuid": "e60a092d2799851aa725eadf28b197022a6b127f"
   },
   "outputs": [
    {
     "name": "stdout",
     "output_type": "stream",
     "text": [
      "Percent data loss nfl1: 63.725%\n",
      "\n",
      "Percent data loss nfl2: 63.725%\n"
     ]
    }
   ],
   "source": [
    "# just how much data did we lose?\n",
    "percent_loss_nfl1 = ((nfl1.size-nfl1_no_missing_cols.size) /nfl1.size)*100\n",
    "percent_loss_nfl2 = ((nfl2.size-nfl2_no_missing_cols.size) /nfl2.size)*100\n",
    "\n",
    "print(f\"Percent data loss nfl1: {percent_loss_nfl1:.3f}%\\n\")\n",
    "print(f\"Percent data loss nfl2: {percent_loss_nfl2:.3f}%\")\n"
   ]
  },
  {
   "cell_type": "markdown",
   "metadata": {
    "_cell_guid": "f417c614-f77f-45eb-b16b-fdc0be936502",
    "_uuid": "bac84fee4ca849e54839c716c43dddfbb559954b"
   },
   "source": [
    "We've lost quite a bit of data, but at this point we have successfully removed all the `NaN`'s from our data. "
   ]
  },
  {
   "cell_type": "code",
   "execution_count": 34,
   "metadata": {
    "_cell_guid": "0fe94654-7dad-4e8d-bbbb-e65e2bb2f767",
    "_uuid": "8207912f74712835283f7e1b30dad0471ee2e1fc"
   },
   "outputs": [
    {
     "data": {
      "text/plain": [
       "0"
      ]
     },
     "execution_count": 34,
     "metadata": {},
     "output_type": "execute_result"
    }
   ],
   "source": [
    "# Your turn! Try removing all the rows from the nfl2 dataset that contain missing values. How many are left?\n",
    "nfl2_no_missing_rows.shape[0]"
   ]
  },
  {
   "cell_type": "code",
   "execution_count": 36,
   "metadata": {
    "_cell_guid": "7ec643e1-abba-4683-b794-a1924e657501",
    "_uuid": "f804c0448b18b6d411ddf8452d15abba8292fffa"
   },
   "outputs": [
    {
     "data": {
      "text/plain": [
       "407688"
      ]
     },
     "execution_count": 36,
     "metadata": {},
     "output_type": "execute_result"
    }
   ],
   "source": [
    "# Now try removing all the columns with empty values. Now how much of your data is left?\n",
    "nfl2_no_missing_cols.shape[0]"
   ]
  },
  {
   "cell_type": "markdown",
   "metadata": {
    "_cell_guid": "1dbe153d-7b30-4ad8-80ad-a4c7fb53928e",
    "_uuid": "eb1ef8d47d9ebed77c3d21eca24708708ed4d45f"
   },
   "source": [
    "# Filling in missing values automatically\n",
    "_____\n",
    "\n",
    "Another option is to try and fill in the missing values. For this next bit, I'm getting a small sub-section of the NFL data so that it will print well."
   ]
  },
  {
   "cell_type": "code",
   "execution_count": 48,
   "metadata": {
    "_cell_guid": "76fd83fb-a6d9-4c03-8c94-a111ee529881",
    "_uuid": "e0944282c73a63513d5345689ddd6a9da0fc8547"
   },
   "outputs": [
    {
     "name": "stdout",
     "output_type": "stream",
     "text": [
      "          Date      GameID  Drive  qtr  down   time  TimeUnder  TimeSecs  \\\n",
      "20  2009-09-10  2009091000      4    1   4.0  06:48          7    3108.0   \n",
      "21  2009-09-10  2009091000      5    1   1.0  06:44          7    3104.0   \n",
      "22  2009-09-10  2009091000      5    1   2.0  06:09          7    3069.0   \n",
      "23  2009-09-10  2009091000      5    1   3.0  05:27          6    3027.0   \n",
      "24  2009-09-10  2009091000      5    1   4.0  05:02          6    3002.0   \n",
      "25  2009-09-10  2009091000      6    1   1.0  04:49          5    2989.0   \n",
      "26  2009-09-10  2009091000      6    1   1.0  04:27          5    2967.0   \n",
      "27  2009-09-10  2009091000      6    1   1.0  04:07          5    2947.0   \n",
      "28  2009-09-10  2009091000      6    1   2.0  03:45          4    2925.0   \n",
      "29  2009-09-10  2009091000      6    1   3.0  03:06          4    2886.0   \n",
      "30  2009-09-10  2009091000      6    1   1.0  02:28          3    2848.0   \n",
      "31  2009-09-10  2009091000      6    1   2.0  01:51          2    2811.0   \n",
      "32  2009-09-10  2009091000      7    1   1.0  01:38          2    2798.0   \n",
      "33  2009-09-10  2009091000      7    1   2.0  00:57          1    2757.0   \n",
      "34  2009-09-10  2009091000      7    1   3.0  00:12          1    2712.0   \n",
      "35  2009-09-10  2009091000      8    1   1.0  00:06          1    2706.0   \n",
      "36  2009-09-10  2009091000      8    1   NaN  00:00          0    2700.0   \n",
      "37  2009-09-10  2009091000      8    2   2.0  15:00         15    2700.0   \n",
      "38  2009-09-10  2009091000      8    2   1.0  14:22         15    2662.0   \n",
      "39  2009-09-10  2009091000      8    2   2.0  13:49         14    2629.0   \n",
      "\n",
      "    PlayTimeDiff SideofField  \n",
      "20           4.0         PIT  \n",
      "21           4.0         PIT  \n",
      "22          35.0         PIT  \n",
      "23          42.0         PIT  \n",
      "24          25.0         PIT  \n",
      "25          13.0         TEN  \n",
      "26          22.0         TEN  \n",
      "27          20.0         TEN  \n",
      "28          22.0         TEN  \n",
      "29          39.0         TEN  \n",
      "30          38.0         PIT  \n",
      "31          37.0         PIT  \n",
      "32          13.0         PIT  \n",
      "33          41.0         PIT  \n",
      "34          45.0         PIT  \n",
      "35           6.0         PIT  \n",
      "36           6.0         PIT  \n",
      "37           0.0         PIT  \n",
      "38          38.0         PIT  \n",
      "39          33.0         PIT  \n",
      "\n",
      "---------------------------------------------------\n",
      "\n",
      "          Date      GameID  Drive  qtr  down   time  TimeUnder  TimeSecs  \\\n",
      "20  2009-09-10  2009091000      4    1   4.0  06:48          7    3108.0   \n",
      "21  2009-09-10  2009091000      5    1   1.0  06:44          7    3104.0   \n",
      "22  2009-09-10  2009091000      5    1   2.0  06:09          7    3069.0   \n",
      "23  2009-09-10  2009091000      5    1   3.0  05:27          6    3027.0   \n",
      "24  2009-09-10  2009091000      5    1   4.0  05:02          6    3002.0   \n",
      "25  2009-09-10  2009091000      6    1   1.0  04:49          5    2989.0   \n",
      "26  2009-09-10  2009091000      6    1   1.0  04:27          5    2967.0   \n",
      "27  2009-09-10  2009091000      6    1   1.0  04:07          5    2947.0   \n",
      "28  2009-09-10  2009091000      6    1   2.0  03:45          4    2925.0   \n",
      "29  2009-09-10  2009091000      6    1   3.0  03:06          4    2886.0   \n",
      "30  2009-09-10  2009091000      6    1   1.0  02:28          3    2848.0   \n",
      "31  2009-09-10  2009091000      6    1   2.0  01:51          2    2811.0   \n",
      "32  2009-09-10  2009091000      7    1   1.0  01:38          2    2798.0   \n",
      "33  2009-09-10  2009091000      7    1   2.0  00:57          1    2757.0   \n",
      "34  2009-09-10  2009091000      7    1   3.0  00:12          1    2712.0   \n",
      "35  2009-09-10  2009091000      8    1   1.0  00:06          1    2706.0   \n",
      "36  2009-09-10  2009091000      8    1   NaN  00:00          0    2700.0   \n",
      "37  2009-09-10  2009091000      8    2   2.0  15:00         15    2700.0   \n",
      "38  2009-09-10  2009091000      8    2   1.0  14:22         15    2662.0   \n",
      "39  2009-09-10  2009091000      8    2   2.0  13:49         14    2629.0   \n",
      "\n",
      "    PlayTimeDiff SideofField  \n",
      "20           4.0         PIT  \n",
      "21           4.0         PIT  \n",
      "22          35.0         PIT  \n",
      "23          42.0         PIT  \n",
      "24          25.0         PIT  \n",
      "25          13.0         TEN  \n",
      "26          22.0         TEN  \n",
      "27          20.0         TEN  \n",
      "28          22.0         TEN  \n",
      "29          39.0         TEN  \n",
      "30          38.0         PIT  \n",
      "31          37.0         PIT  \n",
      "32          13.0         PIT  \n",
      "33          41.0         PIT  \n",
      "34          45.0         PIT  \n",
      "35           6.0         PIT  \n",
      "36           6.0         PIT  \n",
      "37           0.0         PIT  \n",
      "38          38.0         PIT  \n",
      "39          33.0         PIT  \n"
     ]
    }
   ],
   "source": [
    "# get a small subset of the NFL dataset\n",
    "sub_nfl1= nfl1.iloc[20:40,:10].copy()\n",
    "sub_nfl2= nfl2.iloc[20:40,:10].copy()\n",
    "\n",
    "print(sub_nfl1)\n",
    "print(\"\\n---------------------------------------------------\\n\")\n",
    "print(sub_nfl2)"
   ]
  },
  {
   "cell_type": "markdown",
   "metadata": {
    "_cell_guid": "527c8703-4b29-459d-af7d-5505da36016b",
    "_uuid": "f8cfe916904af3265d8ecc4f791f9f62e34ff458"
   },
   "source": [
    "We can use the Panda's fillna() function to fill in missing values in a dataframe for us. One option we have is to specify what we want the `NaN` values to be replaced with. Here, I'm saying that I would like to replace all the `NaN` values with 0."
   ]
  },
  {
   "cell_type": "code",
   "execution_count": 50,
   "metadata": {
    "_cell_guid": "c01ed989-8901-43c8-afa3-6ca36605dfb5",
    "_uuid": "77eac530ce398b8c13eb7886f86bce48fd997f34"
   },
   "outputs": [
    {
     "name": "stdout",
     "output_type": "stream",
     "text": [
      "          Date      GameID  Drive  qtr  down   time  TimeUnder  TimeSecs  \\\n",
      "20  2009-09-10  2009091000      4    1   4.0  06:48          7    3108.0   \n",
      "21  2009-09-10  2009091000      5    1   1.0  06:44          7    3104.0   \n",
      "22  2009-09-10  2009091000      5    1   2.0  06:09          7    3069.0   \n",
      "23  2009-09-10  2009091000      5    1   3.0  05:27          6    3027.0   \n",
      "24  2009-09-10  2009091000      5    1   4.0  05:02          6    3002.0   \n",
      "25  2009-09-10  2009091000      6    1   1.0  04:49          5    2989.0   \n",
      "26  2009-09-10  2009091000      6    1   1.0  04:27          5    2967.0   \n",
      "27  2009-09-10  2009091000      6    1   1.0  04:07          5    2947.0   \n",
      "28  2009-09-10  2009091000      6    1   2.0  03:45          4    2925.0   \n",
      "29  2009-09-10  2009091000      6    1   3.0  03:06          4    2886.0   \n",
      "30  2009-09-10  2009091000      6    1   1.0  02:28          3    2848.0   \n",
      "31  2009-09-10  2009091000      6    1   2.0  01:51          2    2811.0   \n",
      "32  2009-09-10  2009091000      7    1   1.0  01:38          2    2798.0   \n",
      "33  2009-09-10  2009091000      7    1   2.0  00:57          1    2757.0   \n",
      "34  2009-09-10  2009091000      7    1   3.0  00:12          1    2712.0   \n",
      "35  2009-09-10  2009091000      8    1   1.0  00:06          1    2706.0   \n",
      "36  2009-09-10  2009091000      8    1   0.0  00:00          0    2700.0   \n",
      "37  2009-09-10  2009091000      8    2   2.0  15:00         15    2700.0   \n",
      "38  2009-09-10  2009091000      8    2   1.0  14:22         15    2662.0   \n",
      "39  2009-09-10  2009091000      8    2   2.0  13:49         14    2629.0   \n",
      "\n",
      "    PlayTimeDiff SideofField  \n",
      "20           4.0         PIT  \n",
      "21           4.0         PIT  \n",
      "22          35.0         PIT  \n",
      "23          42.0         PIT  \n",
      "24          25.0         PIT  \n",
      "25          13.0         TEN  \n",
      "26          22.0         TEN  \n",
      "27          20.0         TEN  \n",
      "28          22.0         TEN  \n",
      "29          39.0         TEN  \n",
      "30          38.0         PIT  \n",
      "31          37.0         PIT  \n",
      "32          13.0         PIT  \n",
      "33          41.0         PIT  \n",
      "34          45.0         PIT  \n",
      "35           6.0         PIT  \n",
      "36           6.0         PIT  \n",
      "37           0.0         PIT  \n",
      "38          38.0         PIT  \n",
      "39          33.0         PIT  \n"
     ]
    }
   ],
   "source": [
    "# replace all NA's with 0\n",
    "print(sub_nfl1.fillna(0))"
   ]
  },
  {
   "cell_type": "markdown",
   "metadata": {
    "_cell_guid": "1103b725-c823-4f40-9bda-e97997856339",
    "_uuid": "bec603202c6bfaae7a49b4a4042f37019ad1d801"
   },
   "source": [
    "I could also be a bit more savvy and replace missing values with whatever value comes directly after it in the same column. (This makes a lot of sense for datasets where the observations have some sort of logical order to them.)"
   ]
  },
  {
   "cell_type": "code",
   "execution_count": 60,
   "metadata": {
    "_cell_guid": "90ddac9b-ee20-492e-b437-0519c97ca317",
    "_uuid": "afba99aa7897539e9a0af77dce03daab94d0ca68"
   },
   "outputs": [
    {
     "name": "stdout",
     "output_type": "stream",
     "text": [
      "          Date      GameID  Drive  qtr  down   time  TimeUnder  TimeSecs  \\\n",
      "20  2009-09-10  2009091000      4    1   4.0  06:48          7    3108.0   \n",
      "21  2009-09-10  2009091000      5    1   1.0  06:44          7    3104.0   \n",
      "22  2009-09-10  2009091000      5    1   2.0  06:09          7    3069.0   \n",
      "23  2009-09-10  2009091000      5    1   3.0  05:27          6    3027.0   \n",
      "24  2009-09-10  2009091000      5    1   4.0  05:02          6    3002.0   \n",
      "25  2009-09-10  2009091000      6    1   1.0  04:49          5    2989.0   \n",
      "26  2009-09-10  2009091000      6    1   1.0  04:27          5    2967.0   \n",
      "27  2009-09-10  2009091000      6    1   1.0  04:07          5    2947.0   \n",
      "28  2009-09-10  2009091000      6    1   2.0  03:45          4    2925.0   \n",
      "29  2009-09-10  2009091000      6    1   3.0  03:06          4    2886.0   \n",
      "30  2009-09-10  2009091000      6    1   1.0  02:28          3    2848.0   \n",
      "31  2009-09-10  2009091000      6    1   2.0  01:51          2    2811.0   \n",
      "32  2009-09-10  2009091000      7    1   1.0  01:38          2    2798.0   \n",
      "33  2009-09-10  2009091000      7    1   2.0  00:57          1    2757.0   \n",
      "34  2009-09-10  2009091000      7    1   3.0  00:12          1    2712.0   \n",
      "35  2009-09-10  2009091000      8    1   1.0  00:06          1    2706.0   \n",
      "36  2009-09-10  2009091000      8    1   1.0  00:00          0    2700.0   \n",
      "37  2009-09-10  2009091000      8    2   2.0  15:00         15    2700.0   \n",
      "38  2009-09-10  2009091000      8    2   1.0  14:22         15    2662.0   \n",
      "39  2009-09-10  2009091000      8    2   2.0  13:49         14    2629.0   \n",
      "\n",
      "    PlayTimeDiff SideofField  \n",
      "20           4.0         PIT  \n",
      "21           4.0         PIT  \n",
      "22          35.0         PIT  \n",
      "23          42.0         PIT  \n",
      "24          25.0         PIT  \n",
      "25          13.0         TEN  \n",
      "26          22.0         TEN  \n",
      "27          20.0         TEN  \n",
      "28          22.0         TEN  \n",
      "29          39.0         TEN  \n",
      "30          38.0         PIT  \n",
      "31          37.0         PIT  \n",
      "32          13.0         PIT  \n",
      "33          41.0         PIT  \n",
      "34          45.0         PIT  \n",
      "35           6.0         PIT  \n",
      "36           6.0         PIT  \n",
      "37           0.0         PIT  \n",
      "38          38.0         PIT  \n",
      "39          33.0         PIT  \n"
     ]
    }
   ],
   "source": [
    "# replace all NA's the value that comes directly after it in the same column, \n",
    "# then replace all the reamining na's with 0\n",
    "print(sub_nfl2.ffill().fillna(0))"
   ]
  },
  {
   "cell_type": "markdown",
   "metadata": {
    "_cell_guid": "980e5d67-7e9c-41a3-b17e-51d87e9da9cf",
    "_uuid": "1f8ac8b52f2933612e315f06a53185e164e6c5bc"
   },
   "source": [
    "Filling in missing values is also known as \"imputation\", and you can find more exercises on it [in this lesson, also linked under the \"More practice!\" section](https://www.kaggle.com/dansbecker/handling-missing-values). First, however, why don't you try replacing some of the missing values in the sf_permit dataset?"
   ]
  },
  {
   "cell_type": "code",
   "execution_count": 68,
   "metadata": {
    "_cell_guid": "da426397-7e17-40ce-a0d4-ca6d39e47498",
    "_uuid": "f7d403c19eaf31ee0a4e04b9e1119eda96a9f95c"
   },
   "outputs": [
    {
     "name": "stdout",
     "output_type": "stream",
     "text": [
      "Filled time with mode: 15:00\n",
      "Filled SideofField with mode: OAK\n",
      "Filled posteam with mode: NE\n",
      "Filled DefensiveTeam with mode: PHI\n",
      "Filled desc with mode: Two-Minute Warning\n",
      "Filled ExPointResult with mode: Made\n",
      "Filled TwoPointConv with mode: Failure\n",
      "Filled DefTwoPoint with mode: Failure\n",
      "Filled PuntResult with mode: Clean\n",
      "Filled Passer with mode: D.Brees\n",
      "Filled Passer_ID with mode: 00-0020531\n",
      "Filled PassOutcome with mode: Complete\n",
      "Filled PassLength with mode: Short\n",
      "Filled PassLocation with mode: right\n",
      "Filled Interceptor with mode: A.Talib\n",
      "Filled Rusher with mode: F.Gore\n",
      "Filled Rusher_ID with mode: 00-0023500\n",
      "Filled RunLocation with mode: right\n",
      "Filled RunGap with mode: end\n",
      "Filled Receiver with mode: J.Jones\n",
      "Filled Receiver_ID with mode: 00-0024334\n",
      "Filled ReturnResult with mode: Touchback\n",
      "Filled Returner with mode: D.Sproles\n",
      "Filled BlockingPlayer with mode: B.Braman\n",
      "Filled Tackler1 with mode: P.Posluszny\n",
      "Filled Tackler2 with mode: D.Harris\n",
      "Filled FieldGoalResult with mode: Good\n",
      "Filled RecFumbTeam with mode: NYG\n",
      "Filled RecFumbPlayer with mode: D.Jackson\n",
      "Filled ChalReplayResult with mode: Upheld\n",
      "Filled PenalizedTeam with mode: OAK\n",
      "Filled PenaltyType with mode: False Start\n",
      "Filled PenalizedPlayer with mode: A.Smith\n",
      "Filled Timeout_Team with mode: NO\n"
     ]
    }
   ],
   "source": [
    "#fill with mode\n",
    "cat_cols = nfl1.select_dtypes(include=['object']).columns\n",
    "mode_filled_nfl1 = nfl1.copy()\n",
    "for col in cat_cols :\n",
    "    if mode_filled_nfl1[col].isnull().sum()>0 :\n",
    "        mode_val = mode_filled_nfl1[col].mode()\n",
    "        if len(mode_val)>0:\n",
    "            mode_filled_nfl1[col] = mode_filled_nfl1[col].fillna(mode_val[0])\n",
    "            print(f\"Filled {col} with mode: {mode_val[0]}\")"
   ]
  }
 ],
 "metadata": {
  "kernelspec": {
   "display_name": "Python [conda env:base] *",
   "language": "python",
   "name": "conda-base-py"
  },
  "language_info": {
   "codemirror_mode": {
    "name": "ipython",
    "version": 3
   },
   "file_extension": ".py",
   "mimetype": "text/x-python",
   "name": "python",
   "nbconvert_exporter": "python",
   "pygments_lexer": "ipython3",
   "version": "3.12.7"
  }
 },
 "nbformat": 4,
 "nbformat_minor": 4
}
