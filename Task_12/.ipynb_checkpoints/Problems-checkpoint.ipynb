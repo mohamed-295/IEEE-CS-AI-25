{
 "cells": [
  {
   "cell_type": "markdown",
   "id": "83f6d5d2-cd25-4cb0-8f83-60288fa3fcb8",
   "metadata": {},
   "source": [
    "# Task 12 🥳\n",
    "We are using Jupyter in this task"
   ]
  },
  {
   "cell_type": "code",
   "execution_count": 23,
   "id": "a12da50b-24a6-4d75-8203-8d70e40d2b1c",
   "metadata": {},
   "outputs": [],
   "source": [
    "import numpy as np"
   ]
  },
  {
   "cell_type": "markdown",
   "id": "4c3bec2a-ce72-441b-8a2e-6aa33771c171",
   "metadata": {},
   "source": [
    "# Problem 1\n",
    "\n",
    "**Create a 3x3 array that contains a diagonal of nines**\n",
    "\n",
    "\n",
    "* in this problem we will use np.eye() to get identity matrix "
   ]
  },
  {
   "cell_type": "code",
   "execution_count": 25,
   "id": "0f9390d7-fbd3-41cb-b91b-b31b971c90da",
   "metadata": {},
   "outputs": [
    {
     "name": "stdout",
     "output_type": "stream",
     "text": [
      "[[9 0 0]\n",
      " [0 9 0]\n",
      " [0 0 9]]\n"
     ]
    }
   ],
   "source": [
    "arr = np.eye(3,dtype = np.int64)*9\n",
    "print(arr)"
   ]
  },
  {
   "cell_type": "markdown",
   "id": "cbb5b390-22e1-4c74-b73d-8e1bcdab7a8c",
   "metadata": {},
   "source": [
    "# Problem 2\n",
    "**Create a 4 x 4 ndarray that only contains consecutive even numbers from 2 to 32 (inclusive) and use Boolean indexing to pick out the values that are within 1/2 standard deviations of the mean.**\n",
    "\n",
    "\n",
    "* in this problem we need first to make the array form 2 to 32 with step 2\n",
    "* reshape the array to 4*4\n",
    "* get mean and std for array\n",
    "* make array of booleans where **mean-0.5*std <= element <= mean+0.5*std**\n",
    "   \n"
   ]
  },
  {
   "cell_type": "code",
   "execution_count": 27,
   "id": "3b12869b-9bb2-4b1e-975e-db323b7a48f5",
   "metadata": {},
   "outputs": [
    {
     "name": "stdout",
     "output_type": "stream",
     "text": [
      "[[ 2  4  6  8]\n",
      " [10 12 14 16]\n",
      " [18 20 22 24]\n",
      " [26 28 30 32]]\n",
      "\n",
      "Values are :\n",
      "\n",
      "[14 16 18 20]\n"
     ]
    }
   ],
   "source": [
    "arr = np.arange(2,33,2).reshape(4,4)\n",
    "print (arr)\n",
    "\n",
    "mean = arr.mean()\n",
    "std = arr.std()\n",
    "\n",
    "values = arr[(arr>= (mean-.5*std))&(arr<= (mean+.5*std))]\n",
    "print('\\nValues are :\\n')\n",
    "print(values)"
   ]
  },
  {
   "cell_type": "markdown",
   "id": "78805ed2-200e-491d-8f4c-545d0a1d87dd",
   "metadata": {},
   "source": [
    "# Problem 3\n",
    "**Create a 9x9 array that contains only zero of type int.**\n",
    "* in this problem first we will make array of zeros\n",
    "* make the type int64"
   ]
  },
  {
   "cell_type": "code",
   "execution_count": 29,
   "id": "dfacee0d-f34d-4f6e-a513-7a05ca9b1830",
   "metadata": {},
   "outputs": [
    {
     "name": "stdout",
     "output_type": "stream",
     "text": [
      "[[0 0 0 0 0 0 0 0 0]\n",
      " [0 0 0 0 0 0 0 0 0]\n",
      " [0 0 0 0 0 0 0 0 0]\n",
      " [0 0 0 0 0 0 0 0 0]\n",
      " [0 0 0 0 0 0 0 0 0]\n",
      " [0 0 0 0 0 0 0 0 0]\n",
      " [0 0 0 0 0 0 0 0 0]\n",
      " [0 0 0 0 0 0 0 0 0]\n",
      " [0 0 0 0 0 0 0 0 0]]\n"
     ]
    }
   ],
   "source": [
    "arr = np.zeros((9, 9), dtype=np.int64)\n",
    "print (arr)"
   ]
  },
  {
   "cell_type": "markdown",
   "id": "c02fbebd-b351-4a11-80a1-bb036f2b005e",
   "metadata": {},
   "source": [
    "# Problem 4 \n",
    "**Ask the user for a number n. Then, use broadcasting to create a n x n ndarray that\n",
    "has its first column full of ones, its second column full of twos, its third column full of threes, etc.**\n",
    "\n",
    "* First get input n\n",
    "* make array of ones n*1\n",
    "* multiply it to 1*n array each element has the index value ex: [1,2,3,...n]"
   ]
  },
  {
   "cell_type": "code",
   "execution_count": 31,
   "id": "c53c0f6e-5f98-4c7a-ad58-f48077e1f145",
   "metadata": {},
   "outputs": [
    {
     "name": "stdin",
     "output_type": "stream",
     "text": [
      "Enter the value for n:  5\n"
     ]
    },
    {
     "name": "stdout",
     "output_type": "stream",
     "text": [
      "[[1 2 3 4 5]\n",
      " [1 2 3 4 5]\n",
      " [1 2 3 4 5]\n",
      " [1 2 3 4 5]\n",
      " [1 2 3 4 5]]\n"
     ]
    }
   ],
   "source": [
    "n = int(input(\"Enter the value for n: \"))\n",
    "arr = np.ones((n,1),dtype = np.int64)* np.arange(1,n+1)\n",
    "print (arr)"
   ]
  },
  {
   "cell_type": "markdown",
   "id": "a6079ac0-abe0-4e7c-9075-e1e7a02e8f82",
   "metadata": {},
   "source": [
    "# Problem 5\n",
    "**A. Sereja and Dima**\n"
   ]
  },
  {
   "cell_type": "code",
   "execution_count": 34,
   "id": "d3bd7a12-9186-4999-8967-3f920b72078f",
   "metadata": {},
   "outputs": [
    {
     "name": "stdin",
     "output_type": "stream",
     "text": [
      " 4\n",
      " 4 1 2 10\n"
     ]
    },
    {
     "name": "stdout",
     "output_type": "stream",
     "text": [
      "12 5\n"
     ]
    }
   ],
   "source": [
    "import numpy as np\n",
    "n = int(input().strip())\n",
    "cards = np.fromstring(input().strip(), sep=' ', dtype=int)\n",
    "\n",
    "serja=0\n",
    "dima = 0\n",
    "l=0\n",
    "r=n-1\n",
    "t=0\n",
    "while l<=r:\n",
    "    if cards[l] >= cards[r]:\n",
    "        c = cards[l]\n",
    "        l += 1\n",
    "    else:\n",
    "        c = cards[r]\n",
    "        r -= 1\n",
    "    if t==0:\n",
    "        serja+=c\n",
    "        t=1\n",
    "    else:\n",
    "        dima+=c\n",
    "        t=0\n",
    "print (serja, dima)"
   ]
  },
  {
   "cell_type": "markdown",
   "id": "04939fa3-d788-4e5c-97f6-8aa86bb2060c",
   "metadata": {},
   "source": [
    "# Problem 6 \n",
    "**A. Brain's Photos**"
   ]
  },
  {
   "cell_type": "code",
   "execution_count": 52,
   "id": "bb528b9b-b1df-48f0-b465-63ee17f5d820",
   "metadata": {
    "scrolled": true
   },
   "outputs": [
    {
     "name": "stdin",
     "output_type": "stream",
     "text": [
      " 2 2\n",
      " C M\n",
      " Y  Y\n"
     ]
    },
    {
     "name": "stdout",
     "output_type": "stream",
     "text": [
      "#Color\n"
     ]
    }
   ],
   "source": [
    "n, m = map(int, input().strip().split())\n",
    "p=[]\n",
    "c=np.array(['C', 'M', 'Y'])\n",
    "for i in range(n):\n",
    "    row = input().strip().split()\n",
    "    p.append(row)\n",
    "\n",
    "arr = np.array(p)\n",
    "b = np.any(np.isin(arr, c))\n",
    "if b:\n",
    "    print(\"#Color\")\n",
    "else:\n",
    "    print(\"#Black&White\")    "
   ]
  }
 ],
 "metadata": {
  "kernelspec": {
   "display_name": "Python [conda env:base] *",
   "language": "python",
   "name": "conda-base-py"
  },
  "language_info": {
   "codemirror_mode": {
    "name": "ipython",
    "version": 3
   },
   "file_extension": ".py",
   "mimetype": "text/x-python",
   "name": "python",
   "nbconvert_exporter": "python",
   "pygments_lexer": "ipython3",
   "version": "3.12.7"
  }
 },
 "nbformat": 4,
 "nbformat_minor": 5
}
