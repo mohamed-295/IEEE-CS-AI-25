{
 "cells": [
  {
   "cell_type": "code",
   "execution_count": 1,
   "id": "83eef118",
   "metadata": {
    "_cell_guid": "b1076dfc-b9ad-4769-8c92-a6c4dae69d19",
    "_uuid": "8f2839f25d086af736a60e9eeb907d3b93b6e0e5",
    "execution": {
     "iopub.execute_input": "2023-09-04T12:42:43.690663Z",
     "iopub.status.busy": "2023-09-04T12:42:43.690270Z",
     "iopub.status.idle": "2023-09-04T12:42:44.570016Z",
     "shell.execute_reply": "2023-09-04T12:42:44.568881Z"
    },
    "papermill": {
     "duration": 0.904212,
     "end_time": "2023-09-04T12:42:44.572678",
     "exception": false,
     "start_time": "2023-09-04T12:42:43.668466",
     "status": "completed"
    },
    "tags": []
   },
   "outputs": [],
   "source": [
    "#import Libraries\n",
    "\n"
   ]
  },
  {
   "cell_type": "code",
   "execution_count": 2,
   "id": "312c96bb",
   "metadata": {
    "execution": {
     "iopub.execute_input": "2023-09-04T12:42:44.613253Z",
     "iopub.status.busy": "2023-09-04T12:42:44.612417Z",
     "iopub.status.idle": "2023-09-04T12:42:45.809852Z",
     "shell.execute_reply": "2023-09-04T12:42:45.808667Z"
    },
    "papermill": {
     "duration": 1.220712,
     "end_time": "2023-09-04T12:42:45.812499",
     "exception": false,
     "start_time": "2023-09-04T12:42:44.591787",
     "status": "completed"
    },
    "tags": []
   },
   "outputs": [],
   "source": [
    "#read csv"
   ]
  },
  {
   "cell_type": "code",
   "execution_count": 3,
   "id": "2d5d1292",
   "metadata": {
    "execution": {
     "iopub.execute_input": "2023-09-04T12:42:45.864134Z",
     "iopub.status.busy": "2023-09-04T12:42:45.863708Z",
     "iopub.status.idle": "2023-09-04T12:42:45.870972Z",
     "shell.execute_reply": "2023-09-04T12:42:45.869732Z"
    },
    "papermill": {
     "duration": 0.040451,
     "end_time": "2023-09-04T12:42:45.873616",
     "exception": false,
     "start_time": "2023-09-04T12:42:45.833165",
     "status": "completed"
    },
    "tags": []
   },
   "outputs": [],
   "source": [
    "#number of rows and coulmns"
   ]
  },
  {
   "cell_type": "code",
   "execution_count": 4,
   "id": "df4207ae",
   "metadata": {
    "execution": {
     "iopub.execute_input": "2023-09-04T12:42:45.918078Z",
     "iopub.status.busy": "2023-09-04T12:42:45.917532Z",
     "iopub.status.idle": "2023-09-04T12:42:45.931049Z",
     "shell.execute_reply": "2023-09-04T12:42:45.929987Z"
    },
    "papermill": {
     "duration": 0.039371,
     "end_time": "2023-09-04T12:42:45.934384",
     "exception": false,
     "start_time": "2023-09-04T12:42:45.895013",
     "status": "completed"
    },
    "tags": []
   },
   "outputs": [],
   "source": [
    "#show data types found"
   ]
  },
  {
   "cell_type": "code",
   "execution_count": 5,
   "id": "114528be",
   "metadata": {
    "execution": {
     "iopub.execute_input": "2023-09-04T12:42:45.976930Z",
     "iopub.status.busy": "2023-09-04T12:42:45.976513Z",
     "iopub.status.idle": "2023-09-04T12:42:45.984519Z",
     "shell.execute_reply": "2023-09-04T12:42:45.983316Z"
    },
    "papermill": {
     "duration": 0.032531,
     "end_time": "2023-09-04T12:42:45.986946",
     "exception": false,
     "start_time": "2023-09-04T12:42:45.954415",
     "status": "completed"
    },
    "tags": []
   },
   "outputs": [],
   "source": [
    "#show coulmns"
   ]
  },
  {
   "cell_type": "code",
   "execution_count": 6,
   "id": "cc5e7240",
   "metadata": {
    "execution": {
     "iopub.execute_input": "2023-09-04T12:42:46.030078Z",
     "iopub.status.busy": "2023-09-04T12:42:46.029621Z",
     "iopub.status.idle": "2023-09-04T12:42:46.321912Z",
     "shell.execute_reply": "2023-09-04T12:42:46.320784Z"
    },
    "papermill": {
     "duration": 0.317204,
     "end_time": "2023-09-04T12:42:46.324671",
     "exception": false,
     "start_time": "2023-09-04T12:42:46.007467",
     "status": "completed"
    },
    "tags": []
   },
   "outputs": [],
   "source": [
    "#Checking NaN values in the given dataset\n"
   ]
  },
  {
   "cell_type": "code",
   "execution_count": 7,
   "id": "19f96834",
   "metadata": {
    "execution": {
     "iopub.execute_input": "2023-09-04T12:42:46.369049Z",
     "iopub.status.busy": "2023-09-04T12:42:46.368641Z",
     "iopub.status.idle": "2023-09-04T12:42:46.793355Z",
     "shell.execute_reply": "2023-09-04T12:42:46.791967Z"
    },
    "papermill": {
     "duration": 0.450066,
     "end_time": "2023-09-04T12:42:46.796009",
     "exception": false,
     "start_time": "2023-09-04T12:42:46.345943",
     "status": "completed"
    },
    "tags": []
   },
   "outputs": [],
   "source": [
    "#Checking duplicate values in the dataset\n",
    "\n"
   ]
  },
  {
   "cell_type": "code",
   "execution_count": 8,
   "id": "ed3af260",
   "metadata": {
    "execution": {
     "iopub.execute_input": "2023-09-04T12:42:46.839038Z",
     "iopub.status.busy": "2023-09-04T12:42:46.838623Z",
     "iopub.status.idle": "2023-09-04T12:42:46.859025Z",
     "shell.execute_reply": "2023-09-04T12:42:46.858108Z"
    },
    "papermill": {
     "duration": 0.044714,
     "end_time": "2023-09-04T12:42:46.861385",
     "exception": false,
     "start_time": "2023-09-04T12:42:46.816671",
     "status": "completed"
    },
    "tags": []
   },
   "outputs": [],
   "source": [
    "#Renaming the column name to lower case"
   ]
  },
  {
   "cell_type": "code",
   "execution_count": 9,
   "id": "079add94",
   "metadata": {
    "execution": {
     "iopub.execute_input": "2023-09-04T12:42:46.906750Z",
     "iopub.status.busy": "2023-09-04T12:42:46.906115Z",
     "iopub.status.idle": "2023-09-04T12:42:46.952771Z",
     "shell.execute_reply": "2023-09-04T12:42:46.951569Z"
    },
    "papermill": {
     "duration": 0.072934,
     "end_time": "2023-09-04T12:42:46.955437",
     "exception": false,
     "start_time": "2023-09-04T12:42:46.882503",
     "status": "completed"
    },
    "tags": []
   },
   "outputs": [],
   "source": [
    "#Removing Reducant Values (user id)\n"
   ]
  },
  {
   "cell_type": "code",
   "execution_count": 10,
   "id": "28e0eaaf",
   "metadata": {
    "execution": {
     "iopub.execute_input": "2023-09-04T12:42:47.000808Z",
     "iopub.status.busy": "2023-09-04T12:42:47.000407Z",
     "iopub.status.idle": "2023-09-04T12:42:47.064662Z",
     "shell.execute_reply": "2023-09-04T12:42:47.063307Z"
    },
    "papermill": {
     "duration": 0.090484,
     "end_time": "2023-09-04T12:42:47.067279",
     "exception": false,
     "start_time": "2023-09-04T12:42:46.976795",
     "status": "completed"
    },
    "tags": []
   },
   "outputs": [],
   "source": [
    "#Checking for unique values in each individual column of the dataset\n"
   ]
  },
  {
   "cell_type": "code",
   "execution_count": null,
   "id": "a0b5ebe4",
   "metadata": {
    "execution": {
     "iopub.execute_input": "2023-09-04T12:42:47.111701Z",
     "iopub.status.busy": "2023-09-04T12:42:47.111258Z",
     "iopub.status.idle": "2023-09-04T12:42:47.162551Z",
     "shell.execute_reply": "2023-09-04T12:42:47.161600Z"
    },
    "papermill": {
     "duration": 0.07623,
     "end_time": "2023-09-04T12:42:47.164712",
     "exception": false,
     "start_time": "2023-09-04T12:42:47.088482",
     "status": "completed"
    },
    "tags": []
   },
   "outputs": [],
   "source": []
  },
  {
   "cell_type": "code",
   "execution_count": null,
   "id": "d7ad702f",
   "metadata": {
    "execution": {
     "iopub.execute_input": "2023-09-04T12:42:47.273682Z",
     "iopub.status.busy": "2023-09-04T12:42:47.273239Z",
     "iopub.status.idle": "2023-09-04T12:42:47.326823Z",
     "shell.execute_reply": "2023-09-04T12:42:47.325530Z"
    },
    "papermill": {
     "duration": 0.142623,
     "end_time": "2023-09-04T12:42:47.329747",
     "exception": false,
     "start_time": "2023-09-04T12:42:47.187124",
     "status": "completed"
    },
    "tags": []
   },
   "outputs": [],
   "source": []
  },
  {
   "cell_type": "code",
   "execution_count": 11,
   "id": "b0ae3ebc",
   "metadata": {
    "execution": {
     "iopub.execute_input": "2023-09-04T12:42:47.375840Z",
     "iopub.status.busy": "2023-09-04T12:42:47.375450Z",
     "iopub.status.idle": "2023-09-04T12:42:55.653538Z",
     "shell.execute_reply": "2023-09-04T12:42:55.652133Z"
    },
    "papermill": {
     "duration": 8.304288,
     "end_time": "2023-09-04T12:42:55.656316",
     "exception": false,
     "start_time": "2023-09-04T12:42:47.352028",
     "status": "completed"
    },
    "tags": []
   },
   "outputs": [],
   "source": [
    "#replace each range in age coulmn to its creosspond category ex:0-17 ->child ,18-25 ->teenage, 26-50 -> adult , 51-55+ ->old"
   ]
  },
  {
   "cell_type": "code",
   "execution_count": null,
   "id": "bf6a87a1",
   "metadata": {
    "execution": {
     "iopub.execute_input": "2023-09-04T12:42:55.706945Z",
     "iopub.status.busy": "2023-09-04T12:42:55.706538Z",
     "iopub.status.idle": "2023-09-04T12:42:55.758290Z",
     "shell.execute_reply": "2023-09-04T12:42:55.757033Z"
    },
    "papermill": {
     "duration": 0.081656,
     "end_time": "2023-09-04T12:42:55.760960",
     "exception": false,
     "start_time": "2023-09-04T12:42:55.679304",
     "status": "completed"
    },
    "tags": []
   },
   "outputs": [],
   "source": []
  },
  {
   "cell_type": "code",
   "execution_count": null,
   "id": "ae4214b5",
   "metadata": {
    "execution": {
     "iopub.execute_input": "2023-09-04T12:42:55.808630Z",
     "iopub.status.busy": "2023-09-04T12:42:55.808206Z",
     "iopub.status.idle": "2023-09-04T12:42:55.818281Z",
     "shell.execute_reply": "2023-09-04T12:42:55.817407Z"
    },
    "papermill": {
     "duration": 0.037076,
     "end_time": "2023-09-04T12:42:55.820762",
     "exception": false,
     "start_time": "2023-09-04T12:42:55.783686",
     "status": "completed"
    },
    "tags": []
   },
   "outputs": [],
   "source": []
  },
  {
   "cell_type": "code",
   "execution_count": null,
   "id": "2619e536",
   "metadata": {
    "execution": {
     "iopub.execute_input": "2023-09-04T12:42:55.867947Z",
     "iopub.status.busy": "2023-09-04T12:42:55.867516Z",
     "iopub.status.idle": "2023-09-04T12:42:55.916722Z",
     "shell.execute_reply": "2023-09-04T12:42:55.915552Z"
    },
    "papermill": {
     "duration": 0.075715,
     "end_time": "2023-09-04T12:42:55.919233",
     "exception": false,
     "start_time": "2023-09-04T12:42:55.843518",
     "status": "completed"
    },
    "tags": []
   },
   "outputs": [],
   "source": []
  },
  {
   "cell_type": "code",
   "execution_count": 12,
   "id": "cd855e49",
   "metadata": {
    "execution": {
     "iopub.execute_input": "2023-09-04T12:42:55.967808Z",
     "iopub.status.busy": "2023-09-04T12:42:55.967054Z",
     "iopub.status.idle": "2023-09-04T12:42:56.019255Z",
     "shell.execute_reply": "2023-09-04T12:42:56.018096Z"
    },
    "papermill": {
     "duration": 0.080012,
     "end_time": "2023-09-04T12:42:56.021854",
     "exception": false,
     "start_time": "2023-09-04T12:42:55.941842",
     "status": "completed"
    },
    "tags": []
   },
   "outputs": [],
   "source": [
    "#Checking for unique values for city_years column\n"
   ]
  },
  {
   "cell_type": "code",
   "execution_count": 13,
   "id": "d5486374",
   "metadata": {
    "execution": {
     "iopub.execute_input": "2023-09-04T12:42:56.069913Z",
     "iopub.status.busy": "2023-09-04T12:42:56.069532Z",
     "iopub.status.idle": "2023-09-04T12:42:57.135130Z",
     "shell.execute_reply": "2023-09-04T12:42:57.133936Z"
    },
    "papermill": {
     "duration": 1.093211,
     "end_time": "2023-09-04T12:42:57.137907",
     "exception": false,
     "start_time": "2023-09-04T12:42:56.044696",
     "status": "completed"
    },
    "tags": []
   },
   "outputs": [],
   "source": [
    "\n",
    "#remove + from rows in city_years column"
   ]
  },
  {
   "cell_type": "code",
   "execution_count": null,
   "id": "f1ab4abd",
   "metadata": {
    "execution": {
     "iopub.execute_input": "2023-09-04T12:42:57.185559Z",
     "iopub.status.busy": "2023-09-04T12:42:57.185146Z",
     "iopub.status.idle": "2023-09-04T12:42:57.237071Z",
     "shell.execute_reply": "2023-09-04T12:42:57.235936Z"
    },
    "papermill": {
     "duration": 0.078766,
     "end_time": "2023-09-04T12:42:57.239622",
     "exception": false,
     "start_time": "2023-09-04T12:42:57.160856",
     "status": "completed"
    },
    "tags": []
   },
   "outputs": [],
   "source": []
  },
  {
   "cell_type": "code",
   "execution_count": null,
   "id": "ddda69c4",
   "metadata": {
    "execution": {
     "iopub.execute_input": "2023-09-04T12:42:57.288130Z",
     "iopub.status.busy": "2023-09-04T12:42:57.287743Z",
     "iopub.status.idle": "2023-09-04T12:42:57.299200Z",
     "shell.execute_reply": "2023-09-04T12:42:57.297969Z"
    },
    "papermill": {
     "duration": 0.039281,
     "end_time": "2023-09-04T12:42:57.301806",
     "exception": false,
     "start_time": "2023-09-04T12:42:57.262525",
     "status": "completed"
    },
    "tags": []
   },
   "outputs": [],
   "source": []
  },
  {
   "cell_type": "code",
   "execution_count": null,
   "id": "bb7fdab9",
   "metadata": {
    "execution": {
     "iopub.execute_input": "2023-09-04T12:42:57.350605Z",
     "iopub.status.busy": "2023-09-04T12:42:57.350166Z",
     "iopub.status.idle": "2023-09-04T12:42:57.410659Z",
     "shell.execute_reply": "2023-09-04T12:42:57.409350Z"
    },
    "papermill": {
     "duration": 0.087978,
     "end_time": "2023-09-04T12:42:57.413246",
     "exception": false,
     "start_time": "2023-09-04T12:42:57.325268",
     "status": "completed"
    },
    "tags": []
   },
   "outputs": [],
   "source": []
  },
  {
   "cell_type": "code",
   "execution_count": 14,
   "id": "7bd42096",
   "metadata": {
    "execution": {
     "iopub.execute_input": "2023-09-04T12:42:57.462236Z",
     "iopub.status.busy": "2023-09-04T12:42:57.461808Z",
     "iopub.status.idle": "2023-09-04T12:42:57.473914Z",
     "shell.execute_reply": "2023-09-04T12:42:57.472578Z"
    },
    "papermill": {
     "duration": 0.039205,
     "end_time": "2023-09-04T12:42:57.476341",
     "exception": false,
     "start_time": "2023-09-04T12:42:57.437136",
     "status": "completed"
    },
    "tags": []
   },
   "outputs": [],
   "source": [
    "#Checking for unique values for category_1 column\n"
   ]
  },
  {
   "cell_type": "code",
   "execution_count": 15,
   "id": "cb86a15f",
   "metadata": {
    "execution": {
     "iopub.execute_input": "2023-09-04T12:42:57.525895Z",
     "iopub.status.busy": "2023-09-04T12:42:57.525496Z",
     "iopub.status.idle": "2023-09-04T12:42:57.544548Z",
     "shell.execute_reply": "2023-09-04T12:42:57.543215Z"
    },
    "papermill": {
     "duration": 0.047378,
     "end_time": "2023-09-04T12:42:57.547821",
     "exception": false,
     "start_time": "2023-09-04T12:42:57.500443",
     "status": "completed"
    },
    "tags": []
   },
   "outputs": [],
   "source": [
    "#Checking for unique values for category_2 column\n"
   ]
  },
  {
   "cell_type": "code",
   "execution_count": 16,
   "id": "a54a4bfc",
   "metadata": {
    "execution": {
     "iopub.execute_input": "2023-09-04T12:42:57.598677Z",
     "iopub.status.busy": "2023-09-04T12:42:57.597411Z",
     "iopub.status.idle": "2023-09-04T12:42:57.617997Z",
     "shell.execute_reply": "2023-09-04T12:42:57.616710Z"
    },
    "papermill": {
     "duration": 0.048599,
     "end_time": "2023-09-04T12:42:57.620621",
     "exception": false,
     "start_time": "2023-09-04T12:42:57.572022",
     "status": "completed"
    },
    "tags": []
   },
   "outputs": [],
   "source": [
    "#fill null you found"
   ]
  },
  {
   "cell_type": "code",
   "execution_count": 17,
   "id": "e11129d7",
   "metadata": {
    "execution": {
     "iopub.execute_input": "2023-09-04T12:42:57.670754Z",
     "iopub.status.busy": "2023-09-04T12:42:57.670352Z",
     "iopub.status.idle": "2023-09-04T12:42:57.683748Z",
     "shell.execute_reply": "2023-09-04T12:42:57.682574Z"
    },
    "papermill": {
     "duration": 0.041758,
     "end_time": "2023-09-04T12:42:57.686257",
     "exception": false,
     "start_time": "2023-09-04T12:42:57.644499",
     "status": "completed"
    },
    "tags": []
   },
   "outputs": [],
   "source": [
    "#Checking for unique values for category_3 column"
   ]
  },
  {
   "cell_type": "code",
   "execution_count": 18,
   "id": "ebc6ebc4",
   "metadata": {
    "execution": {
     "iopub.execute_input": "2023-09-04T12:42:57.738107Z",
     "iopub.status.busy": "2023-09-04T12:42:57.737674Z",
     "iopub.status.idle": "2023-09-04T12:42:57.756017Z",
     "shell.execute_reply": "2023-09-04T12:42:57.754783Z"
    },
    "papermill": {
     "duration": 0.047064,
     "end_time": "2023-09-04T12:42:57.758579",
     "exception": false,
     "start_time": "2023-09-04T12:42:57.711515",
     "status": "completed"
    },
    "tags": []
   },
   "outputs": [],
   "source": [
    "#fill null you found"
   ]
  },
  {
   "cell_type": "code",
   "execution_count": null,
   "id": "61b7c1b7",
   "metadata": {
    "execution": {
     "iopub.execute_input": "2023-09-04T12:42:57.808938Z",
     "iopub.status.busy": "2023-09-04T12:42:57.808508Z",
     "iopub.status.idle": "2023-09-04T12:42:57.822877Z",
     "shell.execute_reply": "2023-09-04T12:42:57.821916Z"
    },
    "papermill": {
     "duration": 0.043028,
     "end_time": "2023-09-04T12:42:57.825912",
     "exception": false,
     "start_time": "2023-09-04T12:42:57.782884",
     "status": "completed"
    },
    "tags": []
   },
   "outputs": [],
   "source": []
  },
  {
   "cell_type": "code",
   "execution_count": 19,
   "id": "0047acb7",
   "metadata": {
    "execution": {
     "iopub.execute_input": "2023-09-04T12:42:57.877782Z",
     "iopub.status.busy": "2023-09-04T12:42:57.877352Z",
     "iopub.status.idle": "2023-09-04T12:42:58.171805Z",
     "shell.execute_reply": "2023-09-04T12:42:58.170535Z"
    },
    "papermill": {
     "duration": 0.322937,
     "end_time": "2023-09-04T12:42:58.174246",
     "exception": false,
     "start_time": "2023-09-04T12:42:57.851309",
     "status": "completed"
    },
    "tags": []
   },
   "outputs": [],
   "source": [
    "#check for null values"
   ]
  },
  {
   "cell_type": "code",
   "execution_count": 20,
   "id": "9b097b9f",
   "metadata": {
    "papermill": {
     "duration": 0.031961,
     "end_time": "2023-09-04T12:43:24.977355",
     "exception": false,
     "start_time": "2023-09-04T12:43:24.945394",
     "status": "completed"
    },
    "tags": []
   },
   "outputs": [],
   "source": [
    "#check for duplicates values"
   ]
  }
 ],
 "metadata": {
  "kernelspec": {
   "display_name": "Python 3 (ipykernel)",
   "language": "python",
   "name": "python3"
  },
  "language_info": {
   "codemirror_mode": {
    "name": "ipython",
    "version": 3
   },
   "file_extension": ".py",
   "mimetype": "text/x-python",
   "name": "python",
   "nbconvert_exporter": "python",
   "pygments_lexer": "ipython3",
   "version": "3.9.13"
  },
  "papermill": {
   "default_parameters": {},
   "duration": 47.110011,
   "end_time": "2023-09-04T12:43:25.832217",
   "environment_variables": {},
   "exception": null,
   "input_path": "__notebook__.ipynb",
   "output_path": "__notebook__.ipynb",
   "parameters": {},
   "start_time": "2023-09-04T12:42:38.722206",
   "version": "2.4.0"
  }
 },
 "nbformat": 4,
 "nbformat_minor": 5
}
